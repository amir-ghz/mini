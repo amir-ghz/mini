{
 "cells": [
  {
   "cell_type": "code",
   "execution_count": 14,
   "metadata": {},
   "outputs": [
    {
     "name": "stdout",
     "output_type": "stream",
     "text": [
      "77.17571674449376\n",
      "82.32557404157366\n",
      "82.06457402797155\n",
      "82.13257403913225\n",
      "82.37057404401506\n",
      "82.4197169077846\n",
      "[[5, 82.4197169077846], [4, 82.37057404401506], [1, 82.32557404157366], [3, 82.13257403913225], [2, 82.06457402797155], [0, 77.17571674449376]]\n",
      "[0, 3, 7.276000223693847]\n",
      "[0, 4, 76.40600236328125]\n"
     ]
    }
   ],
   "source": [
    "import torch\n",
    "t = torch.load('./Mini-DeiT/resil_base.pt')\n",
    "\n",
    "resil = []\n",
    "\n",
    "for block in range(0,6):\n",
    "    sum = 0\n",
    "    for i in t:\n",
    "        if i[0] == block:\n",
    "            sum += i[2]\n",
    "    resil.append([block, sum/14])\n",
    "    print(sum/14)\n",
    "\n",
    "print(sorted(resil,key=lambda x: x[1], reverse=True))\n",
    "\n",
    "\n",
    "print(t[0])\n",
    "print(t[1])"
   ]
  },
  {
   "cell_type": "code",
   "execution_count": null,
   "metadata": {},
   "outputs": [],
   "source": []
  }
 ],
 "metadata": {
  "kernelspec": {
   "display_name": "Python 3",
   "language": "python",
   "name": "python3"
  },
  "language_info": {
   "codemirror_mode": {
    "name": "ipython",
    "version": 3
   },
   "file_extension": ".py",
   "mimetype": "text/x-python",
   "name": "python",
   "nbconvert_exporter": "python",
   "pygments_lexer": "ipython3",
   "version": "3.11.2"
  },
  "orig_nbformat": 4
 },
 "nbformat": 4,
 "nbformat_minor": 2
}
